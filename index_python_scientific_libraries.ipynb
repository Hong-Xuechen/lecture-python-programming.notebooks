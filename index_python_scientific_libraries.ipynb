{
 "cells": [
  {
   "cell_type": "markdown",
   "metadata": {},
   "source": [
    "\n",
    "<a id='learning-python'></a>\n",
    "<div id=\"qe-notebook-header\" align=\"right\" style=\"text-align:right;\">\n",
    "        <a href=\"https://quantecon.org/\" title=\"quantecon.org\">\n",
    "                <img style=\"width:250px;display:inline;\" width=\"250px\" src=\"https://assets.quantecon.org/img/qe-menubar-logo.svg\" alt=\"QuantEcon\">\n",
    "        </a>\n",
    "</div>"
   ]
  },
  {
   "cell_type": "markdown",
   "metadata": {},
   "source": [
    "# The Scientific Libraries\n",
    "\n",
    "Next we cover the third party libraries most useful for scientific work in Python"
   ]
  },
  {
   "cell_type": "markdown",
   "metadata": {},
   "source": [
    "## Lectures\n",
    "\n",
    "- [Python for Scientific Computing](https://python-programming.quantecon.org/need_for_speed.html)\n",
    "  - [Overview](https://python-programming.quantecon.org/need_for_speed.html#overview)\n",
    "  - [Scientific Libraries](https://python-programming.quantecon.org/need_for_speed.html#scientific-libraries)\n",
    "  - [The Need for Speed](https://python-programming.quantecon.org/need_for_speed.html#the-need-for-speed)\n",
    "  - [Vectorization](https://python-programming.quantecon.org/need_for_speed.html#vectorization)\n",
    "  - [Beyond Vectorization](https://python-programming.quantecon.org/need_for_speed.html#beyond-vectorization)\n",
    "- [NumPy](https://python-programming.quantecon.org/numpy.html)\n",
    "  - [Overview](https://python-programming.quantecon.org/numpy.html#overview)\n",
    "  - [NumPy Arrays](https://python-programming.quantecon.org/numpy.html#numpy-arrays)\n",
    "  - [Operations on Arrays](https://python-programming.quantecon.org/numpy.html#operations-on-arrays)\n",
    "  - [Additional Functionality](https://python-programming.quantecon.org/numpy.html#additional-functionality)\n",
    "  - [Exercises](https://python-programming.quantecon.org/numpy.html#exercises)\n",
    "  - [Solutions](https://python-programming.quantecon.org/numpy.html#solutions)\n",
    "- [Matplotlib](https://python-programming.quantecon.org/matplotlib.html)\n",
    "  - [Overview](https://python-programming.quantecon.org/matplotlib.html#overview)\n",
    "  - [The APIs](https://python-programming.quantecon.org/matplotlib.html#the-apis)\n",
    "  - [More Features](https://python-programming.quantecon.org/matplotlib.html#more-features)\n",
    "  - [Further Reading](https://python-programming.quantecon.org/matplotlib.html#further-reading)\n",
    "  - [Exercises](https://python-programming.quantecon.org/matplotlib.html#exercises)\n",
    "  - [Solutions](https://python-programming.quantecon.org/matplotlib.html#solutions)\n",
    "- [SciPy](https://python-programming.quantecon.org/scipy.html)\n",
    "  - [Overview](https://python-programming.quantecon.org/scipy.html#overview)\n",
    "  - [SciPy versus NumPy](https://python-programming.quantecon.org/scipy.html#scipy-versus-numpy)\n",
    "  - [Statistics](https://python-programming.quantecon.org/scipy.html#statistics)\n",
    "  - [Roots and Fixed Points](https://python-programming.quantecon.org/scipy.html#roots-and-fixed-points)\n",
    "  - [Optimization](https://python-programming.quantecon.org/scipy.html#id2)\n",
    "  - [Integration](https://python-programming.quantecon.org/scipy.html#integration)\n",
    "  - [Linear Algebra](https://python-programming.quantecon.org/scipy.html#id3)\n",
    "  - [Exercises](https://python-programming.quantecon.org/scipy.html#exercises)\n",
    "  - [Solutions](https://python-programming.quantecon.org/scipy.html#solutions)\n",
    "- [Numba](https://python-programming.quantecon.org/numba.html)\n",
    "  - [Overview](https://python-programming.quantecon.org/numba.html#overview)\n",
    "  - [Compiling Functions](https://python-programming.quantecon.org/numba.html#compiling-functions)\n",
    "  - [Decorators and “nopython” Mode](https://python-programming.quantecon.org/numba.html#decorators-and-nopython-mode)\n",
    "  - [Compiling Classes](https://python-programming.quantecon.org/numba.html#compiling-classes)\n",
    "  - [Alternatives to Numba](https://python-programming.quantecon.org/numba.html#alternatives-to-numba)\n",
    "  - [Summary and Comments](https://python-programming.quantecon.org/numba.html#summary-and-comments)\n",
    "  - [Exercises](https://python-programming.quantecon.org/numba.html#exercises)\n",
    "  - [Solutions](https://python-programming.quantecon.org/numba.html#solutions)\n",
    "- [Parallelization](https://python-programming.quantecon.org/parallelization.html)\n",
    "  - [Overview](https://python-programming.quantecon.org/parallelization.html#overview)\n",
    "  - [Types of Parallelization](https://python-programming.quantecon.org/parallelization.html#types-of-parallelization)\n",
    "  - [Implicit Multithreading in NumPy](https://python-programming.quantecon.org/parallelization.html#implicit-multithreading-in-numpy)\n",
    "  - [Multithreaded Loops in Numba](https://python-programming.quantecon.org/parallelization.html#multithreaded-loops-in-numba)\n",
    "  - [Exercises](https://python-programming.quantecon.org/parallelization.html#exercises)\n",
    "  - [Solutions](https://python-programming.quantecon.org/parallelization.html#solutions)\n",
    "- [Pandas](https://python-programming.quantecon.org/pandas.html)\n",
    "  - [Overview](https://python-programming.quantecon.org/pandas.html#overview)\n",
    "  - [Series](https://python-programming.quantecon.org/pandas.html#series)\n",
    "  - [DataFrames](https://python-programming.quantecon.org/pandas.html#dataframes)\n",
    "  - [On-Line Data Sources](https://python-programming.quantecon.org/pandas.html#on-line-data-sources)\n",
    "  - [Exercises](https://python-programming.quantecon.org/pandas.html#exercises)\n",
    "  - [Solutions](https://python-programming.quantecon.org/pandas.html#solutions)"
   ]
  }
 ],
 "metadata": {
  "date": 1601773650.1050746,
  "filename": "index_python_scientific_libraries.rst",
  "kernelspec": {
   "display_name": "Python",
   "language": "python3",
   "name": "python3"
  },
  "next_doc": {
   "link": "need_for_speed",
   "title": "Python for Scientific Computing"
  },
  "prev_doc": {
   "link": "python_oop",
   "title": "OOP II: Building Classes"
  },
  "title": "The Scientific Libraries"
 },
 "nbformat": 4,
 "nbformat_minor": 2
}