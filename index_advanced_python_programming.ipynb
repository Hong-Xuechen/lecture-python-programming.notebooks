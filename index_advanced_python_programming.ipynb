{
 "cells": [
  {
   "cell_type": "markdown",
   "metadata": {},
   "source": [
    "<div id=\"qe-notebook-header\" align=\"right\" style=\"text-align:right;\">\n",
    "        <a href=\"https://quantecon.org/\" title=\"quantecon.org\">\n",
    "                <img style=\"width:250px;display:inline;\" width=\"250px\" src=\"https://assets.quantecon.org/img/qe-menubar-logo.svg\" alt=\"QuantEcon\">\n",
    "        </a>\n",
    "</div>"
   ]
  },
  {
   "cell_type": "markdown",
   "metadata": {},
   "source": [
    "# Advanced Python Programming\n",
    "\n",
    "This part provides a look at more advanced concepts in Python programming"
   ]
  },
  {
   "cell_type": "markdown",
   "metadata": {},
   "source": [
    "## Lectures\n",
    "\n",
    "- [Writing Good Code](https://python-programming.quantecon.org/writing_good_code.html)\n",
    "  - [Overview](https://python-programming.quantecon.org/writing_good_code.html#overview)\n",
    "  - [An Example of Poor Code](https://python-programming.quantecon.org/writing_good_code.html#an-example-of-poor-code)\n",
    "  - [Good Coding Practice](https://python-programming.quantecon.org/writing_good_code.html#good-coding-practice)\n",
    "  - [Revisiting the Example](https://python-programming.quantecon.org/writing_good_code.html#revisiting-the-example)\n",
    "  - [Exercises](https://python-programming.quantecon.org/writing_good_code.html#exercises)\n",
    "  - [Solutions](https://python-programming.quantecon.org/writing_good_code.html#solutions)\n",
    "- [More Language Features](https://python-programming.quantecon.org/python_advanced_features.html)\n",
    "  - [Overview](https://python-programming.quantecon.org/python_advanced_features.html#overview)\n",
    "  - [Iterables and Iterators](https://python-programming.quantecon.org/python_advanced_features.html#iterables-and-iterators)\n",
    "  - [Names and Name Resolution](https://python-programming.quantecon.org/python_advanced_features.html#names-and-name-resolution)\n",
    "  - [Handling Errors](https://python-programming.quantecon.org/python_advanced_features.html#handling-errors)\n",
    "  - [Decorators and Descriptors](https://python-programming.quantecon.org/python_advanced_features.html#decorators-and-descriptors)\n",
    "  - [Generators](https://python-programming.quantecon.org/python_advanced_features.html#generators)\n",
    "  - [Recursive Function Calls](https://python-programming.quantecon.org/python_advanced_features.html#recursive-function-calls)\n",
    "  - [Exercises](https://python-programming.quantecon.org/python_advanced_features.html#exercises)\n",
    "  - [Solutions](https://python-programming.quantecon.org/python_advanced_features.html#solutions)\n",
    "- [Debugging](https://python-programming.quantecon.org/debugging.html)\n",
    "  - [Overview](https://python-programming.quantecon.org/debugging.html#overview)\n",
    "  - [Debugging](https://python-programming.quantecon.org/debugging.html#id2)\n",
    "  - [Other Useful Magics](https://python-programming.quantecon.org/debugging.html#other-useful-magics)"
   ]
  }
 ],
 "metadata": {
  "date": 1601773650.0307176,
  "filename": "index_advanced_python_programming.rst",
  "kernelspec": {
   "display_name": "Python",
   "language": "python3",
   "name": "python3"
  },
  "next_doc": {
   "link": "writing_good_code",
   "title": "Writing Good Code"
  },
  "prev_doc": {
   "link": "pandas",
   "title": "Pandas"
  },
  "title": "Advanced Python Programming"
 },
 "nbformat": 4,
 "nbformat_minor": 2
}