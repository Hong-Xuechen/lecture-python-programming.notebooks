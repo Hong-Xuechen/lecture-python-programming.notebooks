{
 "cells": [
  {
   "cell_type": "markdown",
   "metadata": {},
   "source": [
    "\n",
    "<a id='learning-python'></a>\n",
    "<div id=\"qe-notebook-header\" align=\"right\" style=\"text-align:right;\">\n",
    "        <a href=\"https://quantecon.org/\" title=\"quantecon.org\">\n",
    "                <img style=\"width:250px;display:inline;\" width=\"250px\" src=\"https://assets.quantecon.org/img/qe-menubar-logo.svg\" alt=\"QuantEcon\">\n",
    "        </a>\n",
    "</div>"
   ]
  },
  {
   "cell_type": "markdown",
   "metadata": {},
   "source": [
    "# Introduction to Python\n",
    "\n",
    "This first part of the course provides a relatively fast-paced introduction to the Python programming language"
   ]
  },
  {
   "cell_type": "markdown",
   "metadata": {},
   "source": [
    "## Lectures\n",
    "\n",
    "- [About Python](https://python-programming.quantecon.org/about_py.html)\n",
    "  - [Overview](https://python-programming.quantecon.org/about_py.html#overview)\n",
    "  - [What’s Python?](https://python-programming.quantecon.org/about_py.html#what-s-python)\n",
    "  - [Scientific Programming](https://python-programming.quantecon.org/about_py.html#scientific-programming)\n",
    "  - [Learn More](https://python-programming.quantecon.org/about_py.html#learn-more)\n",
    "- [Setting up Your Python Environment](https://python-programming.quantecon.org/getting_started.html)\n",
    "  - [Overview](https://python-programming.quantecon.org/getting_started.html#overview)\n",
    "  - [Anaconda](https://python-programming.quantecon.org/getting_started.html#anaconda)\n",
    "  - [Jupyter Notebooks](https://python-programming.quantecon.org/getting_started.html#jupyter-notebooks)\n",
    "  - [Installing Libraries](https://python-programming.quantecon.org/getting_started.html#installing-libraries)\n",
    "  - [Working with Python Files](https://python-programming.quantecon.org/getting_started.html#working-with-python-files)\n",
    "  - [Exercises](https://python-programming.quantecon.org/getting_started.html#exercises)\n",
    "- [An Introductory Example](https://python-programming.quantecon.org/python_by_example.html)\n",
    "  - [Overview](https://python-programming.quantecon.org/python_by_example.html#overview)\n",
    "  - [The Task: Plotting a White Noise Process](https://python-programming.quantecon.org/python_by_example.html#the-task-plotting-a-white-noise-process)\n",
    "  - [Version 1](https://python-programming.quantecon.org/python_by_example.html#version-1)\n",
    "  - [Alternative Implementations](https://python-programming.quantecon.org/python_by_example.html#alternative-implementations)\n",
    "  - [Another Application](https://python-programming.quantecon.org/python_by_example.html#another-application)\n",
    "  - [Exercises](https://python-programming.quantecon.org/python_by_example.html#exercises)\n",
    "  - [Solutions](https://python-programming.quantecon.org/python_by_example.html#solutions)\n",
    "- [Functions](https://python-programming.quantecon.org/functions.html)\n",
    "  - [Overview](https://python-programming.quantecon.org/functions.html#overview)\n",
    "  - [Function Basics](https://python-programming.quantecon.org/functions.html#function-basics)\n",
    "  - [Defining Functions](https://python-programming.quantecon.org/functions.html#defining-functions)\n",
    "  - [Applications](https://python-programming.quantecon.org/functions.html#applications)\n",
    "  - [Exercises](https://python-programming.quantecon.org/functions.html#exercises)\n",
    "  - [Solutions](https://python-programming.quantecon.org/functions.html#solutions)\n",
    "- [Python Essentials](https://python-programming.quantecon.org/python_essentials.html)\n",
    "  - [Overview](https://python-programming.quantecon.org/python_essentials.html#overview)\n",
    "  - [Data Types](https://python-programming.quantecon.org/python_essentials.html#data-types)\n",
    "  - [Input and Output](https://python-programming.quantecon.org/python_essentials.html#input-and-output)\n",
    "  - [Iterating](https://python-programming.quantecon.org/python_essentials.html#iterating)\n",
    "  - [Comparisons and Logical Operators](https://python-programming.quantecon.org/python_essentials.html#comparisons-and-logical-operators)\n",
    "  - [More Functions](https://python-programming.quantecon.org/python_essentials.html#more-functions)\n",
    "  - [Coding Style and PEP8](https://python-programming.quantecon.org/python_essentials.html#coding-style-and-pep8)\n",
    "  - [Exercises](https://python-programming.quantecon.org/python_essentials.html#exercises)\n",
    "  - [Solutions](https://python-programming.quantecon.org/python_essentials.html#solutions)\n",
    "- [OOP I: Introduction to Object Oriented Programming](https://python-programming.quantecon.org/oop_intro.html)\n",
    "  - [Overview](https://python-programming.quantecon.org/oop_intro.html#overview)\n",
    "  - [Objects](https://python-programming.quantecon.org/oop_intro.html#objects)\n",
    "  - [Summary](https://python-programming.quantecon.org/oop_intro.html#summary)\n",
    "- [OOP II: Building Classes](https://python-programming.quantecon.org/python_oop.html)\n",
    "  - [Overview](https://python-programming.quantecon.org/python_oop.html#overview)\n",
    "  - [OOP Review](https://python-programming.quantecon.org/python_oop.html#oop-review)\n",
    "  - [Defining Your Own Classes](https://python-programming.quantecon.org/python_oop.html#defining-your-own-classes)\n",
    "  - [Special Methods](https://python-programming.quantecon.org/python_oop.html#special-methods)\n",
    "  - [Exercises](https://python-programming.quantecon.org/python_oop.html#exercises)\n",
    "  - [Solutions](https://python-programming.quantecon.org/python_oop.html#solutions)"
   ]
  }
 ],
 "metadata": {
  "date": 1601773650.067164,
  "filename": "index_learning_python.rst",
  "kernelspec": {
   "display_name": "Python",
   "language": "python3",
   "name": "python3"
  },
  "next_doc": {
   "link": "about_py",
   "title": "About Python"
  },
  "prev_doc": {
   "link": "about_lectures",
   "title": "About Lectures"
  },
  "title": "Introduction to Python"
 },
 "nbformat": 4,
 "nbformat_minor": 2
}