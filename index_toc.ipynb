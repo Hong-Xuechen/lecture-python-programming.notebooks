{
 "cells": [
  {
   "cell_type": "markdown",
   "metadata": {},
   "source": [
    "\n",
    "<a id='toc'></a>\n",
    "<p id=\"numfocus_badge\" style=\"float:right;margin:0 0 0 2rem;\"><a href=\"https://www.numfocus.org/\"><img src=\"/_static/img/powered-by-NumFOCUS-orange.svg\" alt=\"Powered by NumFOCUS logo\"></a></p>"
   ]
  },
  {
   "cell_type": "markdown",
   "metadata": {},
   "source": [
    "# Table of Contents\n",
    "\n",
    "- [About Lectures](https://python-programming.quantecon.org/about_lectures.html)\n",
    "- [Introduction to Python](https://python-programming.quantecon.org/index_learning_python.html)\n",
    "  - [About Python](https://python-programming.quantecon.org/about_py.html)\n",
    "  - [Setting up Your Python Environment](https://python-programming.quantecon.org/getting_started.html)\n",
    "  - [An Introductory Example](https://python-programming.quantecon.org/python_by_example.html)\n",
    "  - [Functions](https://python-programming.quantecon.org/functions.html)\n",
    "  - [Python Essentials](https://python-programming.quantecon.org/python_essentials.html)\n",
    "  - [OOP I: Introduction to Object Oriented Programming](https://python-programming.quantecon.org/oop_intro.html)\n",
    "  - [OOP II: Building Classes](https://python-programming.quantecon.org/python_oop.html)\n",
    "- [The Scientific Libraries](https://python-programming.quantecon.org/index_python_scientific_libraries.html)\n",
    "  - [Python for Scientific Computing](https://python-programming.quantecon.org/need_for_speed.html)\n",
    "  - [NumPy](https://python-programming.quantecon.org/numpy.html)\n",
    "  - [Matplotlib](https://python-programming.quantecon.org/matplotlib.html)\n",
    "  - [SciPy](https://python-programming.quantecon.org/scipy.html)\n",
    "  - [Numba](https://python-programming.quantecon.org/numba.html)\n",
    "  - [Parallelization](https://python-programming.quantecon.org/parallelization.html)\n",
    "  - [Pandas](https://python-programming.quantecon.org/pandas.html)\n",
    "- [Advanced Python Programming](https://python-programming.quantecon.org/index_advanced_python_programming.html)\n",
    "  - [Writing Good Code](https://python-programming.quantecon.org/writing_good_code.html)\n",
    "  - [More Language Features](https://python-programming.quantecon.org/python_advanced_features.html)\n",
    "  - [Debugging](https://python-programming.quantecon.org/debugging.html)\n",
    "\n",
    "\n",
    "<img src=\"http://assets.quantecon.org/img/banner.png\" style=\"width:30%;height:30%\" align=\"center\">"
   ]
  }
 ],
 "metadata": {
  "date": 1601773650.1524816,
  "filename": "index_toc.rst",
  "kernelspec": {
   "display_name": "Python",
   "language": "python3",
   "name": "python3"
  },
  "next_doc": {
   "link": "about_lectures",
   "title": "About Lectures"
  },
  "prev_doc": {
   "link": "index",
   "title": "Python Programming for Economics and Finance"
  },
  "title": "Table of Contents"
 },
 "nbformat": 4,
 "nbformat_minor": 2
}