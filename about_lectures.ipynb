{
 "cells": [
  {
   "cell_type": "markdown",
   "metadata": {},
   "source": [
    "# About Lectures\n",
    "\n",
    "This is one of a series of online texts on modern quantitative\n",
    "economics and programming with Python. This is the first\n",
    "text in the series, which focuses on programming in Python.\n",
    "\n",
    "For an overview of the series, see [this page](https://quantecon.org/python-lectures/)"
   ]
  }
 ],
 "metadata": {
  "date": 1601773649.2919948,
  "filename": "about_lectures.rst",
  "kernelspec": {
   "display_name": "Python",
   "language": "python3",
   "name": "python3"
  },
  "next_doc": {
   "link": "index_learning_python",
   "title": "Introduction to Python"
  },
  "prev_doc": {
   "link": "index_toc",
   "title": "Table of Contents"
  },
  "title": "About Lectures"
 },
 "nbformat": 4,
 "nbformat_minor": 2
}