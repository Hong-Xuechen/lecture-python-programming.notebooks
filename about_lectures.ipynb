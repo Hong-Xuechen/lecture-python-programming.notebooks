{
 "cells": [
  {
   "cell_type": "markdown",
   "metadata": {},
   "source": [
    "# About Lectures\n",
    "\n",
    "This is one of a series of online texts on modern quantitative\n",
    "economics and programming with Python. This is the first\n",
    "text in the series, which focuses on programming in Python.\n",
    "\n",
    "For an overview of the series, see [this page](https://quantecon.org/python-lectures/)"
   ]
  }
 ],
 "metadata": {
  "date": 1600823039.3273833,
  "filename": "about_lectures.rst",
  "kernelspec": {
   "display_name": "Python",
   "language": "python3",
   "name": "python3"
  },
  "next_doc": {
   "link": "index_learning_python",
   "title": "Introduction to Python"
  },
  "prev_doc": {
   "link": "index_toc",
   "title": "Table of Contents"
  },
  "title": "About Lectures"
 },
 "nbformat": 4,
 "nbformat_minor": 2
}